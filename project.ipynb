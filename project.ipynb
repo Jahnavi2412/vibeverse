{
 "cells": [
  {
   "cell_type": "code",
   "execution_count": 4,
   "id": "672a93da-7796-444f-a742-7f00ae2914c0",
   "metadata": {
    "scrolled": true
   },
   "outputs": [
    {
     "data": {
      "text/html": [
       "<div>\n",
       "<style scoped>\n",
       "    .dataframe tbody tr th:only-of-type {\n",
       "        vertical-align: middle;\n",
       "    }\n",
       "\n",
       "    .dataframe tbody tr th {\n",
       "        vertical-align: top;\n",
       "    }\n",
       "\n",
       "    .dataframe thead th {\n",
       "        text-align: right;\n",
       "    }\n",
       "</style>\n",
       "<table border=\"1\" class=\"dataframe\">\n",
       "  <thead>\n",
       "    <tr style=\"text-align: right;\">\n",
       "      <th></th>\n",
       "      <th>song_name</th>\n",
       "      <th>poster</th>\n",
       "      <th>duration</th>\n",
       "      <th>popularity</th>\n",
       "      <th>singer</th>\n",
       "      <th>Genre</th>\n",
       "      <th>language</th>\n",
       "    </tr>\n",
       "  </thead>\n",
       "  <tbody>\n",
       "    <tr>\n",
       "      <th>0</th>\n",
       "      <td>Pehle Lalkare Naal</td>\n",
       "      <td>data:image/jpeg;base64,/9j/4AAQSkZJRgABAQAAAQA...</td>\n",
       "      <td>03:31</td>\n",
       "      <td>96</td>\n",
       "      <td>Amar Singh Chamkila|Amarjot</td>\n",
       "      <td>Pop</td>\n",
       "      <td>Punjabi</td>\n",
       "    </tr>\n",
       "    <tr>\n",
       "      <th>1</th>\n",
       "      <td>Sharbat Wangu Ghut Bhar Lan</td>\n",
       "      <td>data:image/jpeg;base64,/9j/4AAQSkZJRgABAQAAAQA...</td>\n",
       "      <td>04:24</td>\n",
       "      <td>44</td>\n",
       "      <td>Amar Singh Chamkila|Amarjot</td>\n",
       "      <td>Folk</td>\n",
       "      <td>Punjabi</td>\n",
       "    </tr>\n",
       "    <tr>\n",
       "      <th>2</th>\n",
       "      <td>Das Meriya Dilwara ve</td>\n",
       "      <td>data:image/jpeg;base64,/9j/4AAQSkZJRgABAQAAAQA...</td>\n",
       "      <td>06:18</td>\n",
       "      <td>33</td>\n",
       "      <td>Asha Bhosle|Mohammed Rafi</td>\n",
       "      <td>pop</td>\n",
       "      <td>Punjabi</td>\n",
       "    </tr>\n",
       "    <tr>\n",
       "      <th>3</th>\n",
       "      <td>Dhokha Nahin Kamaida</td>\n",
       "      <td>data:image/jpeg;base64,/9j/4AAQSkZJRgABAQAAAQA...</td>\n",
       "      <td>04:28</td>\n",
       "      <td>47</td>\n",
       "      <td>Amar Singh Chamkila|Amarjot</td>\n",
       "      <td>pop</td>\n",
       "      <td>Punjabi</td>\n",
       "    </tr>\n",
       "    <tr>\n",
       "      <th>4</th>\n",
       "      <td>Sikhar Dupehre Nahaundi Si</td>\n",
       "      <td>data:image/jpeg;base64,/9j/4AAQSkZJRgABAQAAAQA...</td>\n",
       "      <td>04:18</td>\n",
       "      <td>76</td>\n",
       "      <td>Amar Singh Chamkila|Amarjot</td>\n",
       "      <td>pop</td>\n",
       "      <td>Punjabi</td>\n",
       "    </tr>\n",
       "    <tr>\n",
       "      <th>...</th>\n",
       "      <td>...</td>\n",
       "      <td>...</td>\n",
       "      <td>...</td>\n",
       "      <td>...</td>\n",
       "      <td>...</td>\n",
       "      <td>...</td>\n",
       "      <td>...</td>\n",
       "    </tr>\n",
       "    <tr>\n",
       "      <th>411</th>\n",
       "      <td>mad world</td>\n",
       "      <td>data:image/jpeg;base64,/9j/4AAQSkZJRgABAQAAAQA...</td>\n",
       "      <td>03:05</td>\n",
       "      <td>79</td>\n",
       "      <td>gary jules</td>\n",
       "      <td>sad</td>\n",
       "      <td>English</td>\n",
       "    </tr>\n",
       "    <tr>\n",
       "      <th>412</th>\n",
       "      <td>hurt</td>\n",
       "      <td>data:image/jpeg;base64,/9j/4AAQSkZJRgABAQAAAQA...</td>\n",
       "      <td>03:38</td>\n",
       "      <td>85</td>\n",
       "      <td>johnny cash</td>\n",
       "      <td>sad</td>\n",
       "      <td>English</td>\n",
       "    </tr>\n",
       "    <tr>\n",
       "      <th>413</th>\n",
       "      <td>tears dry on their own</td>\n",
       "      <td>data:image/jpeg;base64,/9j/4AAQSkZJRgABAQAAAQA...</td>\n",
       "      <td>03:08</td>\n",
       "      <td>36</td>\n",
       "      <td>amy winehouse</td>\n",
       "      <td>sad</td>\n",
       "      <td>English</td>\n",
       "    </tr>\n",
       "    <tr>\n",
       "      <th>414</th>\n",
       "      <td>since u been gone</td>\n",
       "      <td>data:image/jpeg;base64,/9j/4AAQSkZJRgABAQAAAQA...</td>\n",
       "      <td>03:08</td>\n",
       "      <td>81</td>\n",
       "      <td>kelly clarkson</td>\n",
       "      <td>sad</td>\n",
       "      <td>English</td>\n",
       "    </tr>\n",
       "    <tr>\n",
       "      <th>415</th>\n",
       "      <td>hallelujah</td>\n",
       "      <td>data:image/jpeg;base64,/9j/4AAQSkZJRgABAQAAAQA...</td>\n",
       "      <td>04:39</td>\n",
       "      <td>94</td>\n",
       "      <td>leonanrd cohen</td>\n",
       "      <td>sad</td>\n",
       "      <td>English</td>\n",
       "    </tr>\n",
       "  </tbody>\n",
       "</table>\n",
       "<p>416 rows × 7 columns</p>\n",
       "</div>"
      ],
      "text/plain": [
       "                       song_name  \\\n",
       "0             Pehle Lalkare Naal   \n",
       "1    Sharbat Wangu Ghut Bhar Lan   \n",
       "2          Das Meriya Dilwara ve   \n",
       "3           Dhokha Nahin Kamaida   \n",
       "4     Sikhar Dupehre Nahaundi Si   \n",
       "..                           ...   \n",
       "411                    mad world   \n",
       "412                         hurt   \n",
       "413       tears dry on their own   \n",
       "414            since u been gone   \n",
       "415                   hallelujah   \n",
       "\n",
       "                                                poster duration  popularity  \\\n",
       "0    data:image/jpeg;base64,/9j/4AAQSkZJRgABAQAAAQA...    03:31          96   \n",
       "1    data:image/jpeg;base64,/9j/4AAQSkZJRgABAQAAAQA...    04:24          44   \n",
       "2    data:image/jpeg;base64,/9j/4AAQSkZJRgABAQAAAQA...    06:18          33   \n",
       "3    data:image/jpeg;base64,/9j/4AAQSkZJRgABAQAAAQA...    04:28          47   \n",
       "4    data:image/jpeg;base64,/9j/4AAQSkZJRgABAQAAAQA...    04:18          76   \n",
       "..                                                 ...      ...         ...   \n",
       "411  data:image/jpeg;base64,/9j/4AAQSkZJRgABAQAAAQA...    03:05          79   \n",
       "412  data:image/jpeg;base64,/9j/4AAQSkZJRgABAQAAAQA...    03:38          85   \n",
       "413  data:image/jpeg;base64,/9j/4AAQSkZJRgABAQAAAQA...    03:08          36   \n",
       "414  data:image/jpeg;base64,/9j/4AAQSkZJRgABAQAAAQA...    03:08          81   \n",
       "415  data:image/jpeg;base64,/9j/4AAQSkZJRgABAQAAAQA...    04:39          94   \n",
       "\n",
       "                          singer Genre language  \n",
       "0    Amar Singh Chamkila|Amarjot   Pop  Punjabi  \n",
       "1    Amar Singh Chamkila|Amarjot  Folk  Punjabi  \n",
       "2      Asha Bhosle|Mohammed Rafi   pop  Punjabi  \n",
       "3    Amar Singh Chamkila|Amarjot   pop  Punjabi  \n",
       "4    Amar Singh Chamkila|Amarjot   pop  Punjabi  \n",
       "..                           ...   ...      ...  \n",
       "411                   gary jules   sad  English  \n",
       "412                  johnny cash   sad  English  \n",
       "413                amy winehouse   sad  English  \n",
       "414               kelly clarkson   sad  English  \n",
       "415               leonanrd cohen   sad  English  \n",
       "\n",
       "[416 rows x 7 columns]"
      ]
     },
     "execution_count": 4,
     "metadata": {},
     "output_type": "execute_result"
    }
   ],
   "source": [
    "import pandas as pd\n",
    "from sklearn.neighbors import KNeighborsClassifier\n",
    "from sklearn.model_selection import train_test_split\n",
    "df=pd.read_csv('music1.csv',encoding='ISO-8859-1')\n",
    "df"
   ]
  },
  {
   "cell_type": "code",
   "execution_count": 27,
   "id": "b1f5c463-a86d-4ce3-8ba2-eceb73a9dcae",
   "metadata": {},
   "outputs": [],
   "source": [
    "df.drop('duration',axis=1,inplace=True)\n",
    "df.drop('popularity',axis=1,inplace=True)"
   ]
  },
  {
   "cell_type": "code",
   "execution_count": 28,
   "id": "8fe3b136-971b-43e2-95e7-18665bbc5e7a",
   "metadata": {},
   "outputs": [
    {
     "name": "stdout",
     "output_type": "stream",
     "text": [
      "<class 'pandas.core.frame.DataFrame'>\n",
      "RangeIndex: 416 entries, 0 to 415\n",
      "Data columns (total 5 columns):\n",
      " #   Column     Non-Null Count  Dtype \n",
      "---  ------     --------------  ----- \n",
      " 0   song_name  416 non-null    object\n",
      " 1   poster     416 non-null    object\n",
      " 2   singer     416 non-null    object\n",
      " 3   Genre      416 non-null    object\n",
      " 4   language   416 non-null    object\n",
      "dtypes: object(5)\n",
      "memory usage: 16.4+ KB\n"
     ]
    }
   ],
   "source": [
    "df.info()"
   ]
  },
  {
   "cell_type": "code",
   "execution_count": 29,
   "id": "c7c47c20-ca99-426a-ba3d-78e0ba73d31d",
   "metadata": {},
   "outputs": [
    {
     "data": {
      "text/html": [
       "<div>\n",
       "<style scoped>\n",
       "    .dataframe tbody tr th:only-of-type {\n",
       "        vertical-align: middle;\n",
       "    }\n",
       "\n",
       "    .dataframe tbody tr th {\n",
       "        vertical-align: top;\n",
       "    }\n",
       "\n",
       "    .dataframe thead th {\n",
       "        text-align: right;\n",
       "    }\n",
       "</style>\n",
       "<table border=\"1\" class=\"dataframe\">\n",
       "  <thead>\n",
       "    <tr style=\"text-align: right;\">\n",
       "      <th></th>\n",
       "      <th>poster</th>\n",
       "      <th>singer</th>\n",
       "      <th>Genre</th>\n",
       "      <th>language</th>\n",
       "    </tr>\n",
       "  </thead>\n",
       "  <tbody>\n",
       "    <tr>\n",
       "      <th>0</th>\n",
       "      <td>data:image/jpeg;base64,/9j/4AAQSkZJRgABAQAAAQA...</td>\n",
       "      <td>Amar Singh Chamkila|Amarjot</td>\n",
       "      <td>Pop</td>\n",
       "      <td>Punjabi</td>\n",
       "    </tr>\n",
       "    <tr>\n",
       "      <th>1</th>\n",
       "      <td>data:image/jpeg;base64,/9j/4AAQSkZJRgABAQAAAQA...</td>\n",
       "      <td>Amar Singh Chamkila|Amarjot</td>\n",
       "      <td>Folk</td>\n",
       "      <td>Punjabi</td>\n",
       "    </tr>\n",
       "    <tr>\n",
       "      <th>2</th>\n",
       "      <td>data:image/jpeg;base64,/9j/4AAQSkZJRgABAQAAAQA...</td>\n",
       "      <td>Asha Bhosle|Mohammed Rafi</td>\n",
       "      <td>pop</td>\n",
       "      <td>Punjabi</td>\n",
       "    </tr>\n",
       "    <tr>\n",
       "      <th>3</th>\n",
       "      <td>data:image/jpeg;base64,/9j/4AAQSkZJRgABAQAAAQA...</td>\n",
       "      <td>Amar Singh Chamkila|Amarjot</td>\n",
       "      <td>pop</td>\n",
       "      <td>Punjabi</td>\n",
       "    </tr>\n",
       "    <tr>\n",
       "      <th>4</th>\n",
       "      <td>data:image/jpeg;base64,/9j/4AAQSkZJRgABAQAAAQA...</td>\n",
       "      <td>Amar Singh Chamkila|Amarjot</td>\n",
       "      <td>pop</td>\n",
       "      <td>Punjabi</td>\n",
       "    </tr>\n",
       "    <tr>\n",
       "      <th>...</th>\n",
       "      <td>...</td>\n",
       "      <td>...</td>\n",
       "      <td>...</td>\n",
       "      <td>...</td>\n",
       "    </tr>\n",
       "    <tr>\n",
       "      <th>411</th>\n",
       "      <td>data:image/jpeg;base64,/9j/4AAQSkZJRgABAQAAAQA...</td>\n",
       "      <td>gary jules</td>\n",
       "      <td>sad</td>\n",
       "      <td>English</td>\n",
       "    </tr>\n",
       "    <tr>\n",
       "      <th>412</th>\n",
       "      <td>data:image/jpeg;base64,/9j/4AAQSkZJRgABAQAAAQA...</td>\n",
       "      <td>johnny cash</td>\n",
       "      <td>sad</td>\n",
       "      <td>English</td>\n",
       "    </tr>\n",
       "    <tr>\n",
       "      <th>413</th>\n",
       "      <td>data:image/jpeg;base64,/9j/4AAQSkZJRgABAQAAAQA...</td>\n",
       "      <td>amy winehouse</td>\n",
       "      <td>sad</td>\n",
       "      <td>English</td>\n",
       "    </tr>\n",
       "    <tr>\n",
       "      <th>414</th>\n",
       "      <td>data:image/jpeg;base64,/9j/4AAQSkZJRgABAQAAAQA...</td>\n",
       "      <td>kelly clarkson</td>\n",
       "      <td>sad</td>\n",
       "      <td>English</td>\n",
       "    </tr>\n",
       "    <tr>\n",
       "      <th>415</th>\n",
       "      <td>data:image/jpeg;base64,/9j/4AAQSkZJRgABAQAAAQA...</td>\n",
       "      <td>leonanrd cohen</td>\n",
       "      <td>sad</td>\n",
       "      <td>English</td>\n",
       "    </tr>\n",
       "  </tbody>\n",
       "</table>\n",
       "<p>416 rows × 4 columns</p>\n",
       "</div>"
      ],
      "text/plain": [
       "                                                poster  \\\n",
       "0    data:image/jpeg;base64,/9j/4AAQSkZJRgABAQAAAQA...   \n",
       "1    data:image/jpeg;base64,/9j/4AAQSkZJRgABAQAAAQA...   \n",
       "2    data:image/jpeg;base64,/9j/4AAQSkZJRgABAQAAAQA...   \n",
       "3    data:image/jpeg;base64,/9j/4AAQSkZJRgABAQAAAQA...   \n",
       "4    data:image/jpeg;base64,/9j/4AAQSkZJRgABAQAAAQA...   \n",
       "..                                                 ...   \n",
       "411  data:image/jpeg;base64,/9j/4AAQSkZJRgABAQAAAQA...   \n",
       "412  data:image/jpeg;base64,/9j/4AAQSkZJRgABAQAAAQA...   \n",
       "413  data:image/jpeg;base64,/9j/4AAQSkZJRgABAQAAAQA...   \n",
       "414  data:image/jpeg;base64,/9j/4AAQSkZJRgABAQAAAQA...   \n",
       "415  data:image/jpeg;base64,/9j/4AAQSkZJRgABAQAAAQA...   \n",
       "\n",
       "                          singer Genre language  \n",
       "0    Amar Singh Chamkila|Amarjot   Pop  Punjabi  \n",
       "1    Amar Singh Chamkila|Amarjot  Folk  Punjabi  \n",
       "2      Asha Bhosle|Mohammed Rafi   pop  Punjabi  \n",
       "3    Amar Singh Chamkila|Amarjot   pop  Punjabi  \n",
       "4    Amar Singh Chamkila|Amarjot   pop  Punjabi  \n",
       "..                           ...   ...      ...  \n",
       "411                   gary jules   sad  English  \n",
       "412                  johnny cash   sad  English  \n",
       "413                amy winehouse   sad  English  \n",
       "414               kelly clarkson   sad  English  \n",
       "415               leonanrd cohen   sad  English  \n",
       "\n",
       "[416 rows x 4 columns]"
      ]
     },
     "execution_count": 29,
     "metadata": {},
     "output_type": "execute_result"
    }
   ],
   "source": [
    "x=df.iloc[:,1:]# independent variables\n",
    "y=df.loc[:,'song_name']# dependent variables\n",
    "x"
   ]
  },
  {
   "cell_type": "code",
   "execution_count": 30,
   "id": "3bbd2030-b599-4976-98d5-902bb6ac306b",
   "metadata": {},
   "outputs": [
    {
     "data": {
      "text/plain": [
       "(416, 4)"
      ]
     },
     "execution_count": 30,
     "metadata": {},
     "output_type": "execute_result"
    }
   ],
   "source": [
    "x.shape"
   ]
  },
  {
   "cell_type": "code",
   "execution_count": 31,
   "id": "df615693-c78e-4652-a71d-278cd80060ca",
   "metadata": {},
   "outputs": [
    {
     "data": {
      "text/plain": [
       "(416, 5)"
      ]
     },
     "execution_count": 31,
     "metadata": {},
     "output_type": "execute_result"
    }
   ],
   "source": [
    "df.shape"
   ]
  },
  {
   "cell_type": "code",
   "execution_count": 32,
   "id": "cf41acac-8d0d-4968-97b8-16bcb5c38e27",
   "metadata": {},
   "outputs": [
    {
     "data": {
      "text/plain": [
       "0               Pehle Lalkare Naal\n",
       "1      Sharbat Wangu Ghut Bhar Lan\n",
       "2            Das Meriya Dilwara ve\n",
       "3             Dhokha Nahin Kamaida\n",
       "4       Sikhar Dupehre Nahaundi Si\n",
       "                  ...             \n",
       "411                      mad world\n",
       "412                           hurt\n",
       "413         tears dry on their own\n",
       "414              since u been gone\n",
       "415                     hallelujah\n",
       "Name: song_name, Length: 416, dtype: object"
      ]
     },
     "execution_count": 32,
     "metadata": {},
     "output_type": "execute_result"
    }
   ],
   "source": [
    "y"
   ]
  },
  {
   "cell_type": "code",
   "execution_count": 33,
   "id": "a08a7aed-ff7a-4ac3-97d9-30020cf74e2f",
   "metadata": {},
   "outputs": [
    {
     "data": {
      "text/plain": [
       "(416,)"
      ]
     },
     "execution_count": 33,
     "metadata": {},
     "output_type": "execute_result"
    }
   ],
   "source": [
    "y.shape"
   ]
  },
  {
   "cell_type": "code",
   "execution_count": 34,
   "id": "fdef7e43-ba1b-465b-9c4e-6edc64c9d09d",
   "metadata": {},
   "outputs": [],
   "source": [
    "x_train,y_train,x_test,y_test=train_test_split(x,y,test_size=0.25)"
   ]
  },
  {
   "cell_type": "code",
   "execution_count": 36,
   "id": "8799cbe8-215c-46ef-8afc-22e163e692e8",
   "metadata": {},
   "outputs": [
    {
     "ename": "SyntaxError",
     "evalue": "expression cannot contain assignment, perhaps you meant \"==\"? (4189385242.py, line 1)",
     "output_type": "error",
     "traceback": [
      "\u001b[1;36m  Cell \u001b[1;32mIn[36], line 1\u001b[1;36m\u001b[0m\n\u001b[1;33m    model=KNeighborClassifier(n-neighbor=7,p=2)\u001b[0m\n\u001b[1;37m                              ^\u001b[0m\n\u001b[1;31mSyntaxError\u001b[0m\u001b[1;31m:\u001b[0m expression cannot contain assignment, perhaps you meant \"==\"?\n"
     ]
    }
   ],
   "source": [
    "model=KNeighborClassifier(n-neighbor=7,p=2)\n",
    "model.fit(x_train)"
   ]
  },
  {
   "cell_type": "code",
   "execution_count": null,
   "id": "521ce6d5-5c1c-4297-a4fb-b59855ef8971",
   "metadata": {},
   "outputs": [],
   "source": []
  }
 ],
 "metadata": {
  "kernelspec": {
   "display_name": "Python 3 (ipykernel)",
   "language": "python",
   "name": "python3"
  },
  "language_info": {
   "codemirror_mode": {
    "name": "ipython",
    "version": 3
   },
   "file_extension": ".py",
   "mimetype": "text/x-python",
   "name": "python",
   "nbconvert_exporter": "python",
   "pygments_lexer": "ipython3",
   "version": "3.12.3"
  }
 },
 "nbformat": 4,
 "nbformat_minor": 5
}
